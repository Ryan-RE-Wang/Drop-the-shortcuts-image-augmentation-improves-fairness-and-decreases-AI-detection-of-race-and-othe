{
 "cells": [
  {
   "cell_type": "markdown",
   "metadata": {
    "id": "9cjmaU9fTScD"
   },
   "source": [
    "# Set up"
   ]
  },
  {
   "cell_type": "code",
   "execution_count": 3,
   "metadata": {},
   "outputs": [],
   "source": [
    "seed = 2021\n",
    "os.environ['PYTHONHASHSEED']=str(seed)\n",
    "tf.random.set_seed(seed)\n",
    "np.random.seed(seed)"
   ]
  },
  {
   "cell_type": "markdown",
   "metadata": {},
   "source": [
    "# Chi Square test"
   ]
  },
  {
   "cell_type": "code",
   "execution_count": 7,
   "metadata": {},
   "outputs": [],
   "source": [
    "Labels_diseases = ['Atelectasis', 'Cardiomegaly', 'Consolidation', 'Edema', 'Enlarged Cardiomediastinum', 'Fracture', 'Lung Lesion', 'Lung Opacity', 'No Finding', 'Pleural Effusion', 'Pleural Other', 'Pneumonia', 'Pneumothorax', 'Support Devices']\n",
    "\n",
    "def get_data_chi2test(diseases, types):\n",
    "    if (types == 'race'):\n",
    "        df = [[0, 0], [0, 0], [0, 0]]\n",
    "    elif (types == 'gender'):\n",
    "        df = [[0, 0], [0, 0]] \n",
    "    elif (types == 'age'):\n",
    "        df = [[0, 0], [0, 0], [0, 0], [0, 0]]\n",
    "    else:\n",
    "        print('No match category')\n",
    "        return\n",
    "\n",
    "    filename = ['data/mimic_train.tfrecords', 'data/mimic_test.tfrecords', 'data/mimic_val.tfrecords']    \n",
    "        \n",
    "    raw_dataset = tf.data.TFRecordDataset(filename)\n",
    "    for raw_record in raw_dataset:\n",
    "\n",
    "        example = tf.train.Example()\n",
    "        example.ParseFromString(raw_record.numpy())\n",
    "        \n",
    "        if (example.features.feature[diseases].float_list.value[0] == 1):\n",
    "            label = 1\n",
    "        else:\n",
    "            label = 0\n",
    "            \n",
    "        if (types == 'race'):\n",
    "            race = example.features.feature['race'].int64_list.value[0]\n",
    "            if (race == 4):\n",
    "                race = 2\n",
    "            df[race][label] += 1  \n",
    "        elif (types == 'gender'):\n",
    "            gender = example.features.feature['gender'].int64_list.value[0]\n",
    "            df[gender][label] += 1\n",
    "        else:\n",
    "            age = example.features.feature['age'].int64_list.value[0]\n",
    "            if (age > 1):\n",
    "                age -= 1\n",
    "            df[age][label] += 1\n",
    "             \n",
    "    return np.array(df)"
   ]
  },
  {
   "cell_type": "code",
   "execution_count": null,
   "metadata": {},
   "outputs": [],
   "source": [
    "from scipy.stats import chi2_contingency, chisquare\n",
    "\n",
    "for i in Labels_diseases:\n",
    "    obs = get_data_chi2test(i, 'age')\n",
    "    \n",
    "    chi2, p, dof, ex = chi2_contingency(obs)\n",
    "\n",
    "    (chi2, p) == chisquare(obs.ravel(), f_exp=ex.ravel(),\n",
    "                                 ddof=obs.size - 1 - dof)\n",
    "    print(i, p)"
   ]
  },
  {
   "cell_type": "code",
   "execution_count": null,
   "metadata": {},
   "outputs": [],
   "source": [
    "from scipy.stats import chi2_contingency, chisquare\n",
    "\n",
    "for i in Labels_diseases:\n",
    "    obs = get_data_chi2test(i, 'gender')\n",
    "\n",
    "    chi2, p, dof, ex = chi2_contingency(obs)\n",
    "\n",
    "    (chi2, p) == chisquare(obs.ravel(), f_exp=ex.ravel(),\n",
    "                                 ddof=obs.size - 1 - dof)\n",
    "    print(i, p)"
   ]
  },
  {
   "cell_type": "code",
   "execution_count": null,
   "metadata": {},
   "outputs": [],
   "source": [
    "from scipy.stats import chi2_contingency, chisquare\n",
    "\n",
    "for i in Labels_diseases:\n",
    "    obs = get_data_chi2test(i, 'race')\n",
    "\n",
    "    chi2, p, dof, ex = chi2_contingency(obs)\n",
    "\n",
    "    (chi2, p) == chisquare(obs.ravel(), f_exp=ex.ravel(),\n",
    "                                 ddof=obs.size - 1 - dof)\n",
    "    print(i, p)"
   ]
  },
  {
   "cell_type": "markdown",
   "metadata": {},
   "source": [
    "# Permutation test"
   ]
  },
  {
   "cell_type": "code",
   "execution_count": 25,
   "metadata": {},
   "outputs": [],
   "source": [
    "def get_data_permutaitontest(data='test', types='race'):\n",
    "    x = []\n",
    "    y = []\n",
    "\n",
    "    if (data=='train'):\n",
    "        filename = ['data/mimic_train.tfrecords']\n",
    "    else:\n",
    "        filename = ['data/mimic_test.tfrecords']\n",
    "\n",
    "\n",
    "    raw_dataset = tf.data.TFRecordDataset(filename)\n",
    "    for raw_record in raw_dataset:\n",
    "\n",
    "        example = tf.train.Example()\n",
    "        example.ParseFromString(raw_record.numpy())\n",
    "\n",
    "        race = example.features.feature['race'].int64_list.value[0]\n",
    "        age = example.features.feature['age'].int64_list.value[0]\n",
    "        gender = example.features.feature['gender'].int64_list.value[0]\n",
    "\n",
    "        label = []\n",
    "        label.append(1 if example.features.feature['Atelectasis'].float_list.value[0] == 1 else 0)\n",
    "        label.append(1 if example.features.feature['Cardiomegaly'].float_list.value[0] == 1 else 0)\n",
    "        label.append(1 if example.features.feature['Consolidation'].float_list.value[0] == 1 else 0)\n",
    "        label.append(1 if example.features.feature['Edema'].float_list.value[0] == 1 else 0)\n",
    "        label.append(1 if example.features.feature['Enlarged Cardiomediastinum'].float_list.value[0] == 1 else 0)\n",
    "        label.append(1 if example.features.feature['Fracture'].float_list.value[0] == 1 else 0)\n",
    "        label.append(1 if example.features.feature['Lung Lesion'].float_list.value[0] == 1 else 0)\n",
    "        label.append(1 if example.features.feature['Lung Opacity'].float_list.value[0] == 1 else 0)\n",
    "        label.append(1 if example.features.feature['No Finding'].float_list.value[0] == 1 else 0)\n",
    "        label.append(1 if example.features.feature['Pleural Effusion'].float_list.value[0] == 1 else 0)\n",
    "        label.append(1 if example.features.feature['Pleural Other'].float_list.value[0] == 1 else 0)\n",
    "        label.append(1 if example.features.feature['Pneumonia'].float_list.value[0] == 1 else 0)\n",
    "        label.append(1 if example.features.feature['Pneumothorax'].float_list.value[0] == 1 else 0)\n",
    "        label.append(1 if example.features.feature['Support Devices'].float_list.value[0] == 1 else 0)\n",
    "\n",
    "        if (types == 'race'):\n",
    "            if (race == 0):\n",
    "                x.append([1, 0, 0])\n",
    "            elif (race == 1):\n",
    "                x.append([0, 1, 0])\n",
    "            elif (race == 4):\n",
    "                x.append([0, 0, 1])\n",
    "            else:\n",
    "                continue\n",
    "        elif (types == 'age'):\n",
    "            if (age == 0 or age == 1):\n",
    "                x.append([1, 0, 0, 0])\n",
    "            elif (age == 2):\n",
    "                x.append([0, 1, 0, 0])\n",
    "            elif (age == 3):\n",
    "                x.append([0, 0, 1, 0])\n",
    "            elif (age == 4):\n",
    "                x.append([0, 0, 0, 1])\n",
    "            else:\n",
    "                continue\n",
    "        elif (types == 'gender'):\n",
    "            if (gender == 0):\n",
    "                x.append([1, 0])\n",
    "            elif (gender == 1):\n",
    "                x.append([0, 1])\n",
    "            else:\n",
    "                continue\n",
    "        else:\n",
    "            continue\n",
    "\n",
    "        y.append(label)\n",
    "\n",
    "    return np.array(x), np.array(y)"
   ]
  },
  {
   "cell_type": "code",
   "execution_count": 26,
   "metadata": {},
   "outputs": [
    {
     "name": "stdout",
     "output_type": "stream",
     "text": [
      "              precision    recall  f1-score   support\n",
      "\n",
      "           0       0.22      0.86      0.35     12314\n",
      "           1       0.21      0.23      0.22     12152\n",
      "           2       0.05      0.86      0.09      2770\n",
      "           3       0.13      0.85      0.23      7427\n",
      "           4       0.03      0.86      0.07      1951\n",
      "           5       0.02      0.93      0.04      1131\n",
      "           6       0.03      0.86      0.06      1653\n",
      "           7       0.24      0.84      0.37     13457\n",
      "           8       0.38      0.27      0.31     18362\n",
      "           9       0.27      0.89      0.41     14679\n",
      "          10       0.01      0.89      0.02       504\n",
      "          11       0.07      0.83      0.13      4107\n",
      "          12       0.05      0.88      0.10      2818\n",
      "          13       0.32      0.86      0.47     17870\n",
      "\n",
      "   micro avg       0.13      0.69      0.22    111195\n",
      "   macro avg       0.15      0.78      0.21    111195\n",
      "weighted avg       0.24      0.69      0.32    111195\n",
      " samples avg       0.15      0.59      0.22    111195\n",
      "\n"
     ]
    }
   ],
   "source": [
    "from sklearn.linear_model import LogisticRegression\n",
    "from sklearn.multiclass import OneVsRestClassifier\n",
    "\n",
    "Labels_diseases = ['Atelectasis', 'Cardiomegaly', 'Consolidation', 'Edema', 'Enlarged Cardiomediastinum', 'Fracture', 'Lung Lesion', 'Lung Opacity', 'No Finding', 'Pleural Effusion', 'Pleural Other', 'Pneumonia', 'Pneumothorax', 'Support Devices']\n",
    "\n",
    "x_train, y_train = get_data_permutaitontest('train', 'race')\n",
    "\n",
    "clf = OneVsRestClassifier(LogisticRegression(random_state=2021)).fit(x_train, y_train)\n",
    "\n",
    "x_test, y_test = get_data_permutaitontest('test', 'race')\n",
    "\n",
    "preds = clf.predict_proba(x_test)\n",
    "\n",
    "num = []\n",
    "for i in range(14):\n",
    "    num.append(np.unique(preds[:, i]))\n",
    "\n",
    "for j in range(len(preds)):\n",
    "    for i in range(14):\n",
    "        if (preds[j][i] >= np.median(num[i])):\n",
    "            preds[j][i] = 1\n",
    "        else:\n",
    "            preds[j][i] = 0\n",
    "\n",
    "result_race = classification_report(y_test, preds, output_dict=True)\n",
    "\n",
    "print(classification_report(y_test, preds))"
   ]
  },
  {
   "cell_type": "code",
   "execution_count": 27,
   "metadata": {},
   "outputs": [
    {
     "name": "stdout",
     "output_type": "stream",
     "text": [
      "              precision    recall  f1-score   support\n",
      "\n",
      "           0       0.24      0.67      0.35     12314\n",
      "           1       0.24      0.69      0.36     12152\n",
      "           2       0.05      0.64      0.09      2770\n",
      "           3       0.15      0.72      0.25      7427\n",
      "           4       0.03      0.75      0.07      1951\n",
      "           5       0.02      0.65      0.04      1131\n",
      "           6       0.03      0.69      0.06      1653\n",
      "           7       0.25      0.64      0.36     13457\n",
      "           8       0.41      0.54      0.47     18362\n",
      "           9       0.31      0.72      0.43     14679\n",
      "          10       0.01      0.72      0.02       504\n",
      "          11       0.07      0.61      0.13      4107\n",
      "          12       0.05      0.59      0.10      2818\n",
      "          13       0.31      0.61      0.41     17870\n",
      "\n",
      "   micro avg       0.15      0.64      0.24    111195\n",
      "   macro avg       0.16      0.66      0.22    111195\n",
      "weighted avg       0.26      0.64      0.35    111195\n",
      " samples avg       0.18      0.59      0.25    111195\n",
      "\n"
     ]
    }
   ],
   "source": [
    "from sklearn.linear_model import LogisticRegression\n",
    "from sklearn.multiclass import OneVsRestClassifier\n",
    "\n",
    "Labels_diseases = ['Atelectasis', 'Cardiomegaly', 'Consolidation', 'Edema', 'Enlarged Cardiomediastinum', 'Fracture', 'Lung Lesion', 'Lung Opacity', 'No Finding', 'Pleural Effusion', 'Pleural Other', 'Pneumonia', 'Pneumothorax', 'Support Devices']\n",
    "\n",
    "x_train, y_train = get_data_permutaitontest('train', 'age')\n",
    "\n",
    "clf = OneVsRestClassifier(LogisticRegression(random_state=2021)).fit(x_train, y_train)\n",
    "\n",
    "x_test, y_test = get_data_permutaitontest('test', 'age')\n",
    "\n",
    "preds = clf.predict_proba(x_test)\n",
    "\n",
    "num = []\n",
    "for i in range(14):\n",
    "    num.append(np.unique(preds[:, i]))\n",
    "\n",
    "for j in range(len(preds)):\n",
    "    for i in range(14):\n",
    "        if (preds[j][i] >= np.median(num[i])):\n",
    "            preds[j][i] = 1\n",
    "        else:\n",
    "            preds[j][i] = 0\n",
    "\n",
    "result_age = classification_report(y_test, preds, output_dict=True)\n",
    "\n",
    "print(classification_report(y_test, preds))"
   ]
  },
  {
   "cell_type": "code",
   "execution_count": 28,
   "metadata": {},
   "outputs": [
    {
     "name": "stdout",
     "output_type": "stream",
     "text": [
      "              precision    recall  f1-score   support\n",
      "\n",
      "           0       0.22      0.55      0.32     12314\n",
      "           1       0.20      0.51      0.29     12152\n",
      "           2       0.05      0.54      0.09      2770\n",
      "           3       0.12      0.50      0.20      7427\n",
      "           4       0.04      0.56      0.07      1951\n",
      "           5       0.02      0.57      0.04      1131\n",
      "           6       0.03      0.49      0.06      1653\n",
      "           7       0.23      0.53      0.33     13457\n",
      "           8       0.33      0.50      0.40     18362\n",
      "           9       0.25      0.53      0.34     14679\n",
      "          10       0.01      0.58      0.02       504\n",
      "          11       0.07      0.55      0.13      4107\n",
      "          12       0.06      0.62      0.10      2818\n",
      "          13       0.33      0.56      0.41     17870\n",
      "\n",
      "   micro avg       0.14      0.53      0.22    111195\n",
      "   macro avg       0.14      0.54      0.20    111195\n",
      "weighted avg       0.23      0.53      0.31    111195\n",
      " samples avg       0.15      0.50      0.22    111195\n",
      "\n"
     ]
    }
   ],
   "source": [
    "from sklearn.linear_model import LogisticRegression\n",
    "from sklearn.multiclass import OneVsRestClassifier\n",
    "\n",
    "Labels_diseases = ['Atelectasis', 'Cardiomegaly', 'Consolidation', 'Edema', 'Enlarged Cardiomediastinum', 'Fracture', 'Lung Lesion', 'Lung Opacity', 'No Finding', 'Pleural Effusion', 'Pleural Other', 'Pneumonia', 'Pneumothorax', 'Support Devices']\n",
    "\n",
    "x_train, y_train = get_data_permutaitontest('train', 'gender')\n",
    "\n",
    "clf = OneVsRestClassifier(LogisticRegression(random_state=2021)).fit(x_train, y_train)\n",
    "\n",
    "x_test, y_test = get_data_permutaitontest('test', 'gender')\n",
    "\n",
    "preds = clf.predict_proba(x_test)\n",
    "\n",
    "num = []\n",
    "for i in range(14):\n",
    "    num.append(np.unique(preds[:, i]))\n",
    "\n",
    "for j in range(len(preds)):\n",
    "    for i in range(14):\n",
    "        if (preds[j][i] >= np.median(num[i])):\n",
    "            preds[j][i] = 1\n",
    "        else:\n",
    "            preds[j][i] = 0\n",
    "\n",
    "result_gender = classification_report(y_test, preds, output_dict=True)\n",
    "\n",
    "print(classification_report(y_test, preds))"
   ]
  },
  {
   "cell_type": "code",
   "execution_count": 21,
   "metadata": {},
   "outputs": [],
   "source": [
    "from sklearn.metrics import f1_score\n",
    "np.random.seed(2021)\n",
    "x_test, y_test = get_data_permutaitontest('test')\n",
    "length = len(y_test)\n",
    "a = []\n",
    "for i in range(100000):\n",
    "    guess = np.copy(y_test)\n",
    "    np.random.shuffle(guess)\n",
    "\n",
    "    a.append(classification_report(y_test, guess, output_dict=True))"
   ]
  },
  {
   "cell_type": "code",
   "execution_count": null,
   "metadata": {
    "scrolled": false
   },
   "outputs": [],
   "source": [
    "for i in list(a[0].keys()):\n",
    "    print(i)\n",
    "    b = list(map(lambda x: x[i]['f1-score'], a))\n",
    "    c = plt.hist(b, bins=100, color='limegreen')\n",
    "    plt.axvline(np.percentile(b, 95), color='r', linestyle='dashed', linewidth=1)\n",
    "    plt.axvline(result_race['weighted avg']['f1-score'], color='g', linestyle='dashed', linewidth=1)\n",
    "    plt.axvline(result_age['weighted avg']['f1-score'], color='b', linestyle='dashed', linewidth=1)\n",
    "    plt.axvline(result_gender['weighted avg']['f1-score'], color='y', linestyle='dashed', linewidth=1)\n",
    "    plt.show()"
   ]
  }
 ],
 "metadata": {
  "accelerator": "GPU",
  "colab": {
   "collapsed_sections": [],
   "machine_shape": "hm",
   "name": "AE-filter-CXR.ipynb",
   "provenance": [
    {
     "file_id": "1M7eid7ZzEJ1ohc3Adl4Ly59dqjL93YW5",
     "timestamp": 1617011793082
    },
    {
     "file_id": "https://github.com/timsainb/tensorflow2-generative-models/blob/master/6.0-VAE-GAN-fashion-mnist.ipynb",
     "timestamp": 1612080432932
    }
   ]
  },
  "kernelspec": {
   "display_name": "Python 3",
   "language": "python",
   "name": "python3"
  },
  "language_info": {
   "codemirror_mode": {
    "name": "ipython",
    "version": 3
   },
   "file_extension": ".py",
   "mimetype": "text/x-python",
   "name": "python",
   "nbconvert_exporter": "python",
   "pygments_lexer": "ipython3",
   "version": "3.7.10"
  }
 },
 "nbformat": 4,
 "nbformat_minor": 1
}

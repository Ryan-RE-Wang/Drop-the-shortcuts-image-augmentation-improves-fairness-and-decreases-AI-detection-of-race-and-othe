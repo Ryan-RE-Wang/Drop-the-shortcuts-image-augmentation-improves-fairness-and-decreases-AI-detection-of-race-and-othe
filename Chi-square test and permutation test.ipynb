{
 "cells": [
  {
   "cell_type": "markdown",
   "metadata": {
    "id": "9cjmaU9fTScD"
   },
   "source": [
    "# Set up"
   ]
  },
  {
   "cell_type": "code",
   "execution_count": null,
   "metadata": {},
   "outputs": [],
   "source": [
    "import pandas as pd\n",
    "import numpy as np\n",
    "import os\n",
    "import tensorflow as tf\n",
    "\n",
    "seed = 2021\n",
    "os.environ['PYTHONHASHSEED']=str(seed)\n",
    "tf.random.set_seed(seed)\n",
    "np.random.seed(seed)"
   ]
  },
  {
   "cell_type": "markdown",
   "metadata": {},
   "source": [
    "# Chi Square test"
   ]
  },
  {
   "cell_type": "markdown",
   "metadata": {},
   "source": [
    "## 2D CXR"
   ]
  },
  {
   "cell_type": "code",
   "execution_count": null,
   "metadata": {},
   "outputs": [],
   "source": [
    "Labels_diseases = ['Atelectasis', 'Cardiomegaly', 'Consolidation', 'Edema', 'Enlarged Cardiomediastinum', 'Fracture', 'Lung Lesion', 'Lung Opacity', 'No Finding', 'Pleural Effusion', 'Pleural Other', 'Pneumonia', 'Pneumothorax', 'Support Devices']\n",
    "\n",
    "def get_data_chi2test(diseases, types):\n",
    "    if (types == 'race'):\n",
    "        df = [[0, 0], [0, 0], [0, 0]]\n",
    "    elif (types == 'gender'):\n",
    "        df = [[0, 0], [0, 0]] \n",
    "    elif (types == 'age'):\n",
    "        df = [[0, 0], [0, 0], [0, 0], [0, 0]]\n",
    "    else:\n",
    "        print('No match category')\n",
    "        return\n",
    "\n",
    "    filename = ['data/mimic_train.tfrecords', 'data/mimic_test.tfrecords', 'data/mimic_val.tfrecords'] \n",
    "\n",
    "#     filename = ['data/Chexpert_train.tfrecords', 'data/Chexpert_test.tfrecords', 'data/Chexpert_val.tfrecords'] \n",
    "        \n",
    "    raw_dataset = tf.data.TFRecordDataset(filename)\n",
    "    for raw_record in raw_dataset:\n",
    "\n",
    "        example = tf.train.Example()\n",
    "        example.ParseFromString(raw_record.numpy())\n",
    "        \n",
    "        if (example.features.feature[diseases].float_list.value[0] == 1):\n",
    "            label = 1\n",
    "        else:\n",
    "            label = 0\n",
    "            \n",
    "        if (types == 'race'):\n",
    "            race = example.features.feature['race'].int64_list.value[0]\n",
    "            if (race == 4):\n",
    "                race = 2\n",
    "            df[race][label] += 1  \n",
    "        elif (types == 'gender'):\n",
    "            gender = example.features.feature['gender'].int64_list.value[0]\n",
    "            df[gender][label] += 1\n",
    "        else:\n",
    "            age = example.features.feature['age'].int64_list.value[0]\n",
    "            if (age > 1):\n",
    "                age -= 1\n",
    "            df[age][label] += 1\n",
    "             \n",
    "    return np.array(df)"
   ]
  },
  {
   "cell_type": "code",
   "execution_count": null,
   "metadata": {},
   "outputs": [],
   "source": [
    "from scipy.stats import chi2_contingency, chisquare\n",
    "\n",
    "for i in Labels_diseases:\n",
    "    obs = get_data_chi2test(i, 'age')\n",
    "    \n",
    "    chi2, p, dof, ex = chi2_contingency(obs)\n",
    "\n",
    "    (chi2, p) == chisquare(obs.ravel(), f_exp=ex.ravel(),\n",
    "                                 ddof=obs.size - 1 - dof)\n",
    "    print(i, p)"
   ]
  },
  {
   "cell_type": "code",
   "execution_count": null,
   "metadata": {},
   "outputs": [],
   "source": [
    "from scipy.stats import chi2_contingency, chisquare\n",
    "\n",
    "for i in Labels_diseases:\n",
    "    obs = get_data_chi2test(i, 'gender')\n",
    "\n",
    "    chi2, p, dof, ex = chi2_contingency(obs)\n",
    "\n",
    "    (chi2, p) == chisquare(obs.ravel(), f_exp=ex.ravel(),\n",
    "                                 ddof=obs.size - 1 - dof)\n",
    "    print(i, p)"
   ]
  },
  {
   "cell_type": "code",
   "execution_count": null,
   "metadata": {},
   "outputs": [],
   "source": [
    "from scipy.stats import chi2_contingency, chisquare\n",
    "\n",
    "for i in Labels_diseases:\n",
    "    obs = get_data_chi2test(i, 'race')\n",
    "\n",
    "    chi2, p, dof, ex = chi2_contingency(obs)\n",
    "\n",
    "    (chi2, p) == chisquare(obs.ravel(), f_exp=ex.ravel(),\n",
    "                                 ddof=obs.size - 1 - dof)\n",
    "    print(i, p)"
   ]
  },
  {
   "cell_type": "markdown",
   "metadata": {},
   "source": [
    "## 3D MRI"
   ]
  },
  {
   "cell_type": "code",
   "execution_count": null,
   "metadata": {},
   "outputs": [],
   "source": [
    "df = pd.read_csv('data_new.csv')\n",
    "data_path = '../../../mnt/usb/kuopc/ADNI_B1/MPR__GradWarp__B1_Correction_crop/'\n",
    "\n",
    "df = df.loc[df['Group'] != 'MCI']\n",
    "\n",
    "df['Group'] = df['Group'].replace(['CN', 'AD'], [0, 1])\n",
    "df['Sex'] = df['Sex'].replace(['F', 'M'], [0, 1])\n",
    "df['Age'] = np.where(df['Age'] <= 75, 0, 1)\n",
    "df['Race'] = np.where(df['Race'] < 1, 0, 1)"
   ]
  },
  {
   "cell_type": "code",
   "execution_count": null,
   "metadata": {},
   "outputs": [],
   "source": [
    "from scipy.stats import chi2_contingency, chisquare\n",
    "\n",
    "obs = np.array([df.loc[df['Sex'] == 0, 'Group'].value_counts().values, df.loc[df['Sex'] == 1, 'Group'].value_counts().values])\n",
    "\n",
    "chi2, p, dof, ex = chi2_contingency(obs)\n",
    "\n",
    "(chi2, p) == chisquare(obs.ravel(), f_exp=ex.ravel(),\n",
    "                             ddof=obs.size - 1 - dof)\n",
    "print(p)"
   ]
  },
  {
   "cell_type": "code",
   "execution_count": null,
   "metadata": {},
   "outputs": [],
   "source": [
    "from scipy.stats import chi2_contingency, chisquare\n",
    "\n",
    "obs = np.array([df.loc[df['Age'] == 0, 'Group'].value_counts().values, df.loc[df['Age'] == 1, 'Group'].value_counts().values])\n",
    "\n",
    "chi2, p, dof, ex = chi2_contingency(obs)\n",
    "\n",
    "(chi2, p) == chisquare(obs.ravel(), f_exp=ex.ravel(),\n",
    "                             ddof=obs.size - 1 - dof)\n",
    "print(p)"
   ]
  },
  {
   "cell_type": "markdown",
   "metadata": {},
   "source": [
    "# Permutation test"
   ]
  },
  {
   "cell_type": "markdown",
   "metadata": {},
   "source": [
    "## 2D CXR"
   ]
  },
  {
   "cell_type": "code",
   "execution_count": null,
   "metadata": {},
   "outputs": [],
   "source": [
    "def get_data_permutaitontest(data='test', types='race'):\n",
    "    x = []\n",
    "    y = []\n",
    "\n",
    "    if (data=='train'):\n",
    "        filename = ['data/mimic_train.tfrecords']\n",
    "#         filename = ['data/Chexpert_train.tfrecords']\n",
    "    else:\n",
    "        filename = ['data/mimic_test.tfrecords']\n",
    "#         filename = ['data/Chexpert_test.tfrecords']\n",
    "\n",
    "\n",
    "    raw_dataset = tf.data.TFRecordDataset(filename)\n",
    "    for raw_record in raw_dataset:\n",
    "\n",
    "        example = tf.train.Example()\n",
    "        example.ParseFromString(raw_record.numpy())\n",
    "\n",
    "        race = example.features.feature['race'].int64_list.value[0]\n",
    "        age = example.features.feature['age'].int64_list.value[0]\n",
    "        gender = example.features.feature['gender'].int64_list.value[0]\n",
    "\n",
    "        label = []\n",
    "        label.append(1 if example.features.feature['Atelectasis'].float_list.value[0] == 1 else 0)\n",
    "        label.append(1 if example.features.feature['Cardiomegaly'].float_list.value[0] == 1 else 0)\n",
    "        label.append(1 if example.features.feature['Consolidation'].float_list.value[0] == 1 else 0)\n",
    "        label.append(1 if example.features.feature['Edema'].float_list.value[0] == 1 else 0)\n",
    "        label.append(1 if example.features.feature['Enlarged Cardiomediastinum'].float_list.value[0] == 1 else 0)\n",
    "#         label.append(1 if example.features.feature['Fracture'].float_list.value[0] == 1 else 0)\n",
    "#         label.append(1 if example.features.feature['Lung Lesion'].float_list.value[0] == 1 else 0)\n",
    "        label.append(1 if example.features.feature['Lung Opacity'].float_list.value[0] == 1 else 0)\n",
    "        label.append(1 if example.features.feature['No Finding'].float_list.value[0] == 1 else 0)\n",
    "        label.append(1 if example.features.feature['Pleural Effusion'].float_list.value[0] == 1 else 0)\n",
    "#         label.append(1 if example.features.feature['Pleural Other'].float_list.value[0] == 1 else 0)\n",
    "        label.append(1 if example.features.feature['Pneumonia'].float_list.value[0] == 1 else 0)\n",
    "        label.append(1 if example.features.feature['Pneumothorax'].float_list.value[0] == 1 else 0)\n",
    "#         label.append(1 if example.features.feature['Support Devices'].float_list.value[0] == 1 else 0)\n",
    "\n",
    "        if (types == 'race'):\n",
    "            if (race == 0):\n",
    "                x.append([1, 0, 0])\n",
    "            elif (race == 1):\n",
    "                x.append([0, 1, 0])\n",
    "            elif (race == 4):\n",
    "                x.append([0, 0, 1])\n",
    "            else:\n",
    "                continue\n",
    "        elif (types == 'age'):\n",
    "            if (age == 0 or age == 1):\n",
    "                x.append([1, 0, 0, 0])\n",
    "            elif (age == 2):\n",
    "                x.append([0, 1, 0, 0])\n",
    "            elif (age == 3):\n",
    "                x.append([0, 0, 1, 0])\n",
    "            elif (age == 4):\n",
    "                x.append([0, 0, 0, 1])\n",
    "            else:\n",
    "                continue\n",
    "#         elif (types == 'age'):\n",
    "#             if (age == 0):\n",
    "#                 x.append([1, 0, 0, 0])\n",
    "#             elif (age == 1):\n",
    "#                 x.append([0, 1, 0, 0])\n",
    "#             elif (age == 2):\n",
    "#                 x.append([0, 0, 1, 0])\n",
    "#             elif (age == 3):\n",
    "#                 x.append([0, 0, 0, 1])\n",
    "#             else:\n",
    "#                 continue\n",
    "        elif (types == 'gender'):\n",
    "            if (gender == 0):\n",
    "                x.append([1, 0])\n",
    "            elif (gender == 1):\n",
    "                x.append([0, 1])\n",
    "            else:\n",
    "                continue\n",
    "        else:\n",
    "            continue\n",
    "\n",
    "        y.append(label)\n",
    "\n",
    "    return np.array(x), np.array(y)"
   ]
  },
  {
   "cell_type": "code",
   "execution_count": null,
   "metadata": {},
   "outputs": [],
   "source": [
    "from sklearn.linear_model import LogisticRegression\n",
    "from sklearn.multiclass import OneVsRestClassifier\n",
    "from sklearn.metrics import classification_report\n",
    "\n",
    "Labels_diseases = ['Atelectasis', 'Cardiomegaly', 'Consolidation', 'Edema', 'Enlarged Cardiomediastinum', 'Lung Opacity', 'No Finding', 'Pleural Effusion', 'Pneumonia', 'Pneumothorax']\n",
    "\n",
    "x_train, y_train = get_data_permutaitontest('train', 'race')\n",
    "\n",
    "clf = OneVsRestClassifier(LogisticRegression(random_state=2021)).fit(x_train, y_train)\n",
    "\n",
    "x_test, y_test = get_data_permutaitontest('test', 'race')\n",
    "\n",
    "preds = clf.predict_proba(x_test)\n",
    "\n",
    "num = []\n",
    "for i in range(10):\n",
    "    num.append(np.unique(preds[:, i]))\n",
    "\n",
    "for j in range(len(preds)):\n",
    "    for i in range(10):\n",
    "        if (preds[j][i] >= np.median(num[i])):\n",
    "            preds[j][i] = 1\n",
    "        else:\n",
    "            preds[j][i] = 0\n",
    "\n",
    "result_race = classification_report(y_test, preds, output_dict=True)\n",
    "\n",
    "print(classification_report(y_test, preds))"
   ]
  },
  {
   "cell_type": "code",
   "execution_count": null,
   "metadata": {},
   "outputs": [],
   "source": [
    "Labels_diseases = ['Atelectasis', 'Cardiomegaly', 'Consolidation', 'Edema', 'Enlarged Cardiomediastinum', 'Fracture', 'Lung Lesion', 'Lung Opacity', 'No Finding', 'Pleural Effusion', 'Pleural Other', 'Pneumonia', 'Pneumothorax', 'Support Devices']\n",
    "\n",
    "x_train, y_train = get_data_permutaitontest('train', 'age')\n",
    "\n",
    "clf = OneVsRestClassifier(LogisticRegression(random_state=2021)).fit(x_train, y_train)\n",
    "\n",
    "x_test, y_test = get_data_permutaitontest('test', 'age')\n",
    "\n",
    "preds = clf.predict_proba(x_test)\n",
    "\n",
    "num = []\n",
    "for i in range(10):\n",
    "    num.append(np.unique(preds[:, i]))\n",
    "\n",
    "for j in range(len(preds)):\n",
    "    for i in range(10):\n",
    "        if (preds[j][i] >= np.median(num[i])):\n",
    "            preds[j][i] = 1\n",
    "        else:\n",
    "            preds[j][i] = 0\n",
    "\n",
    "result_age = classification_report(y_test, preds, output_dict=True)\n",
    "\n",
    "print(classification_report(y_test, preds))"
   ]
  },
  {
   "cell_type": "code",
   "execution_count": null,
   "metadata": {},
   "outputs": [],
   "source": [
    "Labels_diseases = ['Atelectasis', 'Cardiomegaly', 'Consolidation', 'Edema', 'Enlarged Cardiomediastinum', 'Fracture', 'Lung Lesion', 'Lung Opacity', 'No Finding', 'Pleural Effusion', 'Pleural Other', 'Pneumonia', 'Pneumothorax', 'Support Devices']\n",
    "\n",
    "x_train, y_train = get_data_permutaitontest('train', 'gender')\n",
    "\n",
    "clf = OneVsRestClassifier(LogisticRegression(random_state=2021)).fit(x_train, y_train)\n",
    "\n",
    "x_test, y_test = get_data_permutaitontest('test', 'gender')\n",
    "\n",
    "preds = clf.predict_proba(x_test)\n",
    "\n",
    "num = []\n",
    "for i in range(10):\n",
    "    num.append(np.unique(preds[:, i]))\n",
    "\n",
    "for j in range(len(preds)):\n",
    "    for i in range(10):\n",
    "        if (preds[j][i] >= np.median(num[i])):\n",
    "            preds[j][i] = 1\n",
    "        else:\n",
    "            preds[j][i] = 0\n",
    "\n",
    "result_gender = classification_report(y_test, preds, output_dict=True)\n",
    "\n",
    "print(classification_report(y_test, preds))"
   ]
  },
  {
   "cell_type": "code",
   "execution_count": null,
   "metadata": {},
   "outputs": [],
   "source": [
    "from sklearn.metrics import f1_score\n",
    "np.random.seed(2021)\n",
    "x_test, y_test = get_data_permutaitontest('test')\n",
    "length = len(y_test)\n",
    "a = []\n",
    "for i in range(100000):\n",
    "    guess = np.copy(y_test)\n",
    "    np.random.shuffle(guess)\n",
    "\n",
    "    a.append(classification_report(y_test, guess, output_dict=True))"
   ]
  },
  {
   "cell_type": "code",
   "execution_count": null,
   "metadata": {},
   "outputs": [],
   "source": [
    "plt.figure(figsize=(6, 4), dpi=250)\n",
    "\n",
    "b = list(map(lambda x: x['weighted avg']['f1-score'], a))\n",
    "c = plt.hist(b, bins=100, color='limegreen')\n",
    "plt.axvline(np.percentile(b, 95), color='r', linestyle='dashed', linewidth=1, label='95 percentile')\n",
    "plt.axvline(result_race['weighted avg']['f1-score'], color='g', linestyle='dashed', linewidth=1, label='Race')\n",
    "plt.axvline(result_age['weighted avg']['f1-score'], color='b', linestyle='dashed', linewidth=1, label='Age')\n",
    "plt.axvline(result_gender['weighted avg']['f1-score'], color='y', linestyle='dashed', linewidth=1, label='Gender')\n",
    "plt.legend(bbox_to_anchor=(1, 0.7))\n",
    "plt.show()"
   ]
  },
  {
   "cell_type": "code",
   "execution_count": null,
   "metadata": {},
   "outputs": [],
   "source": [
    "plt.figure(figsize=(6, 4), dpi=250)\n",
    "\n",
    "b = list(map(lambda x: x['weighted avg']['f1-score'], a))\n",
    "c = plt.hist(b, bins=100, color='limegreen')\n",
    "plt.axvline(np.percentile(b, 95), color='r', linestyle='dashed', linewidth=1, label='95 percentile')\n",
    "plt.axvline(result_race['weighted avg']['f1-score'], color='g', linestyle='dashed', linewidth=1, label='Race')\n",
    "plt.axvline(result_age['weighted avg']['f1-score'], color='b', linestyle='dashed', linewidth=1, label='Age')\n",
    "plt.axvline(result_gender['weighted avg']['f1-score'], color='y', linestyle='dashed', linewidth=1, label='Gender')\n",
    "plt.legend(bbox_to_anchor=(1, 0.7))\n",
    "plt.show()"
   ]
  },
  {
   "cell_type": "code",
   "execution_count": null,
   "metadata": {
    "scrolled": true
   },
   "outputs": [],
   "source": [
    "import matplotlib.pyplot as plt\n",
    "\n",
    "for i in list(a[0].keys()):\n",
    "    print(i)\n",
    "    b = list(map(lambda x: x[i]['f1-score'], a))\n",
    "    c = plt.hist(b, bins=100, color='limegreen')\n",
    "    plt.axvline(np.percentile(b, 95), color='r', linestyle='dashed', linewidth=1)\n",
    "    plt.axvline(result_race['weighted avg']['f1-score'], color='g', linestyle='dashed', linewidth=1)\n",
    "    plt.axvline(result_age['weighted avg']['f1-score'], color='b', linestyle='dashed', linewidth=1)\n",
    "    plt.axvline(result_gender['weighted avg']['f1-score'], color='y', linestyle='dashed', linewidth=1)\n",
    "    plt.show()"
   ]
  },
  {
   "cell_type": "markdown",
   "metadata": {},
   "source": [
    "## 3D MRI"
   ]
  },
  {
   "cell_type": "code",
   "execution_count": null,
   "metadata": {},
   "outputs": [],
   "source": [
    "df = pd.read_csv('data_new.csv')\n",
    "data_path = '../../../mnt/usb/kuopc/ADNI_B1/MPR__GradWarp__B1_Correction_crop/'\n",
    "\n",
    "df = df.loc[df['Group'] != 'MCI']\n",
    "\n",
    "df['Group'] = df['Group'].replace(['CN', 'AD'], [0, 1])\n",
    "df['Sex'] = df['Sex'].replace(['F', 'M'], [0, 1])\n",
    "df['Age'] = np.where(df['Age'] <= 75, 0, 1)\n",
    "df['Race'] = np.where(df['Race'] < 1, 0, 1)"
   ]
  },
  {
   "cell_type": "code",
   "execution_count": null,
   "metadata": {},
   "outputs": [],
   "source": [
    "from sklearn.metrics import classification_report\n",
    "\n",
    "df_train = df.loc[df['Split'] == 'train']\n",
    "\n",
    "df_test = df.loc[df['Split'] == 'test']\n",
    "\n",
    "preds = df_test['Sex'].values\n",
    "\n",
    "result_sex = classification_report(df_test['Group'].values, preds, output_dict=True)\n",
    "\n",
    "print(classification_report(df_test['Group'].values, preds))\n"
   ]
  },
  {
   "cell_type": "code",
   "execution_count": null,
   "metadata": {},
   "outputs": [],
   "source": [
    "from sklearn.linear_model import LogisticRegression\n",
    "from sklearn.multiclass import OneVsRestClassifier\n",
    "\n",
    "df_train = df.loc[df['Split'] == 'train']\n",
    "\n",
    "df_test = df.loc[df['Split'] == 'test']\n",
    "\n",
    "preds = df_test['Age'].values\n",
    "\n",
    "result_age = classification_report(df_test['Group'].values, preds, output_dict=True)\n",
    "\n",
    "print(classification_report(df_test['Group'].values, preds))"
   ]
  },
  {
   "cell_type": "code",
   "execution_count": null,
   "metadata": {},
   "outputs": [],
   "source": [
    "from sklearn.metrics import f1_score\n",
    "np.random.seed(2021)\n",
    "\n",
    "a = []\n",
    "for i in range(100000):\n",
    "    guess = np.copy(df_test['Group'].values)\n",
    "    np.random.shuffle(guess)\n",
    "\n",
    "    a.append(classification_report(df_test['Group'].values, guess, output_dict=True))\n",
    "    \n",
    "    "
   ]
  },
  {
   "cell_type": "code",
   "execution_count": null,
   "metadata": {},
   "outputs": [],
   "source": [
    "import matplotlib.pyplot as plt\n",
    "\n",
    "for i in list(a[0].keys()):\n",
    "    if (i == 'accuracy'):\n",
    "        continue\n",
    "    print(i)\n",
    "    b = list(map(lambda x: x[i]['f1-score'], a))\n",
    "    c = plt.hist(b, bins=100, color='limegreen')\n",
    "    plt.axvline(np.percentile(b, 95), color='r', linestyle='dashed', linewidth=1)\n",
    "    plt.axvline(result_age['weighted avg']['f1-score'], color='b', linestyle='dashed', linewidth=1)\n",
    "    plt.axvline(result_sex['weighted avg']['f1-score'], color='y', linestyle='dashed', linewidth=1)\n",
    "    plt.show()"
   ]
  }
 ],
 "metadata": {
  "accelerator": "GPU",
  "colab": {
   "collapsed_sections": [],
   "machine_shape": "hm",
   "name": "AE-filter-CXR.ipynb",
   "provenance": [
    {
     "file_id": "1M7eid7ZzEJ1ohc3Adl4Ly59dqjL93YW5",
     "timestamp": 1617011793082
    },
    {
     "file_id": "https://github.com/timsainb/tensorflow2-generative-models/blob/master/6.0-VAE-GAN-fashion-mnist.ipynb",
     "timestamp": 1612080432932
    }
   ]
  },
  "kernelspec": {
   "display_name": "Python 3",
   "language": "python",
   "name": "python3"
  },
  "language_info": {
   "codemirror_mode": {
    "name": "ipython",
    "version": 3
   },
   "file_extension": ".py",
   "mimetype": "text/x-python",
   "name": "python",
   "nbconvert_exporter": "python",
   "pygments_lexer": "ipython3",
   "version": "3.7.10"
  }
 },
 "nbformat": 4,
 "nbformat_minor": 1
}

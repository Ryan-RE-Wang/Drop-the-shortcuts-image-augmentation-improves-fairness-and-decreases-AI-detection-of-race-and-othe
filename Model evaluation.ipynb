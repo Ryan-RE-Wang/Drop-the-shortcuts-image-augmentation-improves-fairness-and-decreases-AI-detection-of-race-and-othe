{
 "cells": [
  {
   "cell_type": "code",
   "execution_count": 1,
   "id": "executed-impossible",
   "metadata": {},
   "outputs": [
    {
     "name": "stdout",
     "output_type": "stream",
     "text": [
      "Mon Feb 13 15:03:42 2023       \r\n",
      "+-----------------------------------------------------------------------------+\r\n",
      "| NVIDIA-SMI 460.67       Driver Version: 460.67       CUDA Version: 11.2     |\r\n",
      "|-------------------------------+----------------------+----------------------+\r\n",
      "| GPU  Name        Persistence-M| Bus-Id        Disp.A | Volatile Uncorr. ECC |\r\n",
      "| Fan  Temp  Perf  Pwr:Usage/Cap|         Memory-Usage | GPU-Util  Compute M. |\r\n",
      "|                               |                      |               MIG M. |\r\n",
      "|===============================+======================+======================|\r\n",
      "|   0  GeForce RTX 3090    Off  | 00000000:65:00.0 Off |                  N/A |\r\n",
      "| 73%   55C    P8    54W / 370W |  23644MiB / 24265MiB |      2%      Default |\r\n",
      "|                               |                      |                  N/A |\r\n",
      "+-------------------------------+----------------------+----------------------+\r\n",
      "|   1  GeForce RTX 3090    Off  | 00000000:B3:00.0 Off |                  N/A |\r\n",
      "| 65%   57C    P2   139W / 370W |  23821MiB / 24268MiB |     11%      Default |\r\n",
      "|                               |                      |                  N/A |\r\n",
      "+-------------------------------+----------------------+----------------------+\r\n",
      "                                                                               \r\n",
      "+-----------------------------------------------------------------------------+\r\n",
      "| Processes:                                                                  |\r\n",
      "|  GPU   GI   CI        PID   Type   Process name                  GPU Memory |\r\n",
      "|        ID   ID                                                   Usage      |\r\n",
      "|=============================================================================|\r\n",
      "|    0   N/A  N/A      3401      C   /opt/tljh/user/bin/python       23587MiB |\r\n",
      "|    0   N/A  N/A     16032      G   /usr/lib/xorg/Xorg                 53MiB |\r\n",
      "|    1   N/A  N/A     16032      G   /usr/lib/xorg/Xorg                  4MiB |\r\n",
      "|    1   N/A  N/A     26865      C   python                          23813MiB |\r\n",
      "+-----------------------------------------------------------------------------+\r\n"
     ]
    }
   ],
   "source": [
    "!nvidia-smi"
   ]
  },
  {
   "cell_type": "code",
   "execution_count": 2,
   "id": "removable-adobe",
   "metadata": {},
   "outputs": [
    {
     "name": "stdout",
     "output_type": "stream",
     "text": [
      "2.5.0\n"
     ]
    }
   ],
   "source": [
    "import os\n",
    "os.environ['TF_CPP_MIN_LOG_LEVEL'] = '3' \n",
    "# os.environ[\"CUDA_VISIBLE_DEVICES\"] = \"0\"\n",
    "\n",
    "import tensorflow as tf\n",
    "import pickle\n",
    "import pandas as pd\n",
    "import numpy as np\n",
    "import warnings\n",
    "from models import *\n",
    "from evaluation import *\n",
    "from load_data import *\n",
    "from resnet3d import *\n",
    "\n",
    "print(tf.__version__)\n",
    "warnings.filterwarnings(\"ignore\")\n",
    "\n",
    "gpus = tf.config.list_physical_devices(device_type='GPU')\n",
    "tf.config.set_visible_devices(devices=gpus[0], device_type='GPU')\n",
    "tf.config.experimental.set_memory_growth(gpus[0], True)"
   ]
  },
  {
   "cell_type": "code",
   "execution_count": 3,
   "id": "surrounded-philosophy",
   "metadata": {},
   "outputs": [],
   "source": [
    "seed = 2021\n",
    "os.environ['PYTHONHASHSEED']=str(seed)\n",
    "tf.random.set_seed(seed)\n",
    "np.random.seed(seed)"
   ]
  },
  {
   "cell_type": "markdown",
   "id": "perceived-basin",
   "metadata": {},
   "source": [
    "# Evaluate the predictions"
   ]
  },
  {
   "cell_type": "markdown",
   "id": "inappropriate-strand",
   "metadata": {},
   "source": [
    "## 2D CXR"
   ]
  },
  {
   "cell_type": "code",
   "execution_count": 4,
   "id": "arbitrary-chrome",
   "metadata": {},
   "outputs": [],
   "source": [
    "def get_data(aug_method='_rotation90', dataset='mimic', data_split='test', task='disease', return_demo=False):\n",
    "    \n",
    "    np.random.seed(2021)\n",
    "            \n",
    "    X = []\n",
    "    y = []\n",
    "    demo = []\n",
    "    \n",
    "    filename = 'data/{dataset}_{data_split}{aug_method}.tfrecords'.format(dataset=dataset, data_split=data_split, aug_method=aug_method)\n",
    "\n",
    "    raw_dataset = tf.data.TFRecordDataset(filename)\n",
    "    for raw_record in raw_dataset:\n",
    "        label = []\n",
    "        \n",
    "        example = tf.train.Example()\n",
    "        example.ParseFromString(raw_record.numpy())\n",
    "        \n",
    "        race = example.features.feature['race'].int64_list.value[0]\n",
    "        age = example.features.feature['age'].int64_list.value[0]\n",
    "        if (age > 0 and dataset == 'mimic'):\n",
    "            age -= 1\n",
    "        gender = example.features.feature['gender'].int64_list.value[0]\n",
    "        \n",
    "        temp = [race, gender, age]\n",
    "#         {\"race\":race, \"gender\":gender, \"age\":age}\n",
    "        demo.append(temp)\n",
    "                        \n",
    "        if (task=='disease'):\n",
    "            \n",
    "            label.append(1 if example.features.feature['Atelectasis'].float_list.value[0] == 1 else 0)\n",
    "            label.append(1 if example.features.feature['Cardiomegaly'].float_list.value[0] == 1 else 0)\n",
    "            label.append(1 if example.features.feature['Consolidation'].float_list.value[0] == 1 else 0)\n",
    "            label.append(1 if example.features.feature['Edema'].float_list.value[0] == 1 else 0)\n",
    "            label.append(1 if example.features.feature['Enlarged Cardiomediastinum'].float_list.value[0] == 1 else 0)\n",
    "            label.append(1 if example.features.feature['Fracture'].float_list.value[0] == 1 else 0)\n",
    "            label.append(1 if example.features.feature['Lung Lesion'].float_list.value[0] == 1 else 0)\n",
    "            label.append(1 if example.features.feature['Lung Opacity'].float_list.value[0] == 1 else 0)\n",
    "            label.append(1 if example.features.feature['No Finding'].float_list.value[0] == 1 else 0)\n",
    "            label.append(1 if example.features.feature['Pleural Effusion'].float_list.value[0] == 1 else 0)\n",
    "            label.append(1 if example.features.feature['Pleural Other'].float_list.value[0] == 1 else 0)\n",
    "            label.append(1 if example.features.feature['Pneumonia'].float_list.value[0] == 1 else 0)\n",
    "            label.append(1 if example.features.feature['Pneumothorax'].float_list.value[0] == 1 else 0)\n",
    "            label.append(1 if example.features.feature['Support Devices'].float_list.value[0] == 1 else 0)\n",
    "            \n",
    "        elif (task == 'race'):\n",
    "            \n",
    "            if (race == 0):\n",
    "                label = [1, 0, 0]\n",
    "            elif (race == 1):\n",
    "                label = [0, 1, 0]\n",
    "            else:\n",
    "                label = [0, 0, 1]\n",
    "                \n",
    "        elif (task == 'age'):\n",
    "            \n",
    "            if (age == 0):\n",
    "                label = [1, 0, 0, 0]\n",
    "            elif (age == 1):\n",
    "                label = [0, 1, 0, 0]\n",
    "            elif (age == 2):\n",
    "                label = [0, 0, 1, 0]\n",
    "            else:\n",
    "                label = [0, 0, 0, 1]\n",
    "                \n",
    "        elif (task == 'gender'):\n",
    "            \n",
    "            if (gender == 0):\n",
    "                label = [1, 0]\n",
    "            else:\n",
    "                label = [0, 1]\n",
    "                \n",
    "        else:\n",
    "            raise NameError('Wrong task')\n",
    "\n",
    "#         nparr = np.fromstring(example.features.feature['jpg_bytes'].bytes_list.value[0], np.uint8)\n",
    "#         img_np = cv.imdecode(nparr, cv.IMREAD_GRAYSCALE)  \n",
    "        \n",
    "        X.append(0)\n",
    "                        \n",
    "        y.append(label)\n",
    "                \n",
    "    if (return_demo):\n",
    "        return np.array(X), np.array(y), np.array(demo)\n",
    "    else:\n",
    "        return np.array(X), np.array(y)\n",
    "    \n",
    "aug_method = ''\n",
    "dataset = 'mimic'\n",
    "task = 'disease'\n",
    "\n",
    "X_test, y_test, demo = get_data(aug_method=aug_method, dataset=dataset, data_split='test', task=task, return_demo=True)"
   ]
  },
  {
   "cell_type": "code",
   "execution_count": 6,
   "id": "alert-karen",
   "metadata": {},
   "outputs": [],
   "source": [
    "def compute_result(y_preds, y_test, best_thresh, demo, result_name, group):\n",
    "    group_type = {'race': [0, 1, 4], 'gender': [0, 1], 'age': [0, 1, 2, 3]}\n",
    "    dfs = []\n",
    "    for j in group_type[group]:\n",
    "\n",
    "        idx = demo[:, list(group_type.keys()).index(group)] == j\n",
    "\n",
    "        dfs_disease = []\n",
    "        for k in range(14):\n",
    "\n",
    "            dfs_disease.append(test(y_preds[idx, k], y_test[idx, k], best_thresh[k]))\n",
    "\n",
    "        dfs.append(dfs_disease)\n",
    "\n",
    "    with open(\"results/{i}_{group}_results\".format(i=result_name, group=group), \"wb\") as fp:\n",
    "        pickle.dump(dfs, fp)"
   ]
  },
  {
   "cell_type": "code",
   "execution_count": 7,
   "id": "chicken-career",
   "metadata": {},
   "outputs": [],
   "source": [
    "model_name = 'densenet_mimic_ERM_proposed_no_weight'\n",
    "result_name = '{i}_on_original'.format(i=model_name)\n",
    "prediction_name = 'predictions/model_{i}_on_original'.format(i=model_name)\n",
    "best_thresh = np.loadtxt('thresh/model_{i}_thresh.txt'.format(i=model_name))\n",
    "\n",
    "with open(prediction_name, \"rb\") as fp:\n",
    "    y_preds = pickle.load(fp)\n",
    "fp.close()\n",
    "    \n",
    "compute_result(y_preds, y_test, best_thresh, demo, result_name, 'race')\n",
    "compute_result(y_preds, y_test, best_thresh, demo, result_name, 'gender')\n",
    "compute_result(y_preds, y_test, best_thresh, demo, result_name, 'age')"
   ]
  },
  {
   "cell_type": "code",
   "execution_count": 8,
   "id": "governmental-constraint",
   "metadata": {},
   "outputs": [],
   "source": [
    "model_name = 'densenet_mimic_ERM_proposed_no_weight'\n",
    "result_name = '{i}_on_aug'.format(i=model_name)\n",
    "prediction_name = 'predictions/model_{i}_on_aug'.format(i=model_name)\n",
    "best_thresh = np.loadtxt('thresh/model_{i}_thresh.txt'.format(i=model_name))\n",
    "\n",
    "with open(prediction_name, \"rb\") as fp:\n",
    "    y_preds = pickle.load(fp)\n",
    "fp.close()\n",
    "    \n",
    "compute_result(y_preds, y_test, best_thresh, demo, result_name, 'race')\n",
    "compute_result(y_preds, y_test, best_thresh, demo, result_name, 'gender')\n",
    "compute_result(y_preds, y_test, best_thresh, demo, result_name, 'age')"
   ]
  },
  {
   "cell_type": "code",
   "execution_count": 9,
   "id": "upper-stanford",
   "metadata": {},
   "outputs": [],
   "source": [
    "model_name = 'densenet_mimic_ERM_no_weight'\n",
    "result_name = '{i}_on_original'.format(i=model_name)\n",
    "prediction_name = 'predictions/model_{i}_on_original'.format(i=model_name)\n",
    "best_thresh = np.loadtxt('thresh/model_{i}_thresh.txt'.format(i=model_name))\n",
    "\n",
    "with open(prediction_name, \"rb\") as fp:\n",
    "    y_preds = pickle.load(fp)\n",
    "fp.close()\n",
    "    \n",
    "compute_result(y_preds, y_test, best_thresh, demo, result_name, 'race')\n",
    "compute_result(y_preds, y_test, best_thresh, demo, result_name, 'gender')\n",
    "compute_result(y_preds, y_test, best_thresh, demo, result_name, 'age')"
   ]
  },
  {
   "cell_type": "code",
   "execution_count": 10,
   "id": "amended-communications",
   "metadata": {},
   "outputs": [],
   "source": [
    "model_name = 'densenet_mimic_ERM_no_weight'\n",
    "result_name = '{i}_on_aug'.format(i=model_name)\n",
    "prediction_name = 'predictions/model_{i}_on_aug'.format(i=model_name)\n",
    "best_thresh = np.loadtxt('thresh/model_{i}_thresh.txt'.format(i=model_name))\n",
    "\n",
    "with open(prediction_name, \"rb\") as fp:\n",
    "    y_preds = pickle.load(fp)\n",
    "fp.close()\n",
    "    \n",
    "compute_result(y_preds, y_test, best_thresh, demo, result_name, 'race')\n",
    "compute_result(y_preds, y_test, best_thresh, demo, result_name, 'gender')\n",
    "compute_result(y_preds, y_test, best_thresh, demo, result_name, 'age')"
   ]
  },
  {
   "cell_type": "markdown",
   "id": "spoken-outdoors",
   "metadata": {},
   "source": [
    "## 3D MRI"
   ]
  },
  {
   "cell_type": "code",
   "execution_count": 19,
   "id": "central-collins",
   "metadata": {},
   "outputs": [],
   "source": [
    "df = pd.read_csv('data_new.csv')\n",
    "data_path = '../../../mnt/usb/kuopc/ADNI_B1/MPR__GradWarp__B1_Correction_crop/'\n",
    "\n",
    "df = df.loc[df['Group'] != 'MCI']\n",
    "df = df.loc[df['Split'] == 'test']\n",
    "\n",
    "df['Group'] = df['Group'].replace(['CN', 'AD'], [0, 1])\n",
    "df['Sex'] = df['Sex'].replace(['F', 'M'], [0, 1])\n",
    "df['Age'] = np.where(df['Age'] <= 75, 0, 1)\n",
    "df['Race'] = np.where(df['Race'] < 1, 0, 1)"
   ]
  },
  {
   "cell_type": "code",
   "execution_count": 21,
   "id": "monetary-flooring",
   "metadata": {},
   "outputs": [
    {
     "name": "stdout",
     "output_type": "stream",
     "text": [
      "Sample auc mean: 0.687\n",
      "Samole auc std: 0.033\n",
      "Sample auc CI: 0.074\n",
      "Confidence interval for the score: [0.612 - 0.761]\n",
      "Sample auc mean: 0.691\n",
      "Samole auc std: 0.033\n",
      "Sample auc CI: 0.075\n",
      "Confidence interval for the score: [0.616 - 0.766]\n"
     ]
    }
   ],
   "source": [
    "model_name = '3D_CNN_AD_CN_age'\n",
    "prediction_name = 'predictions/{i}_on_original'.format(i=model_name)\n",
    "with open(prediction_name, \"rb\") as fp:\n",
    "    y_preds = pickle.load(fp)\n",
    "demo_test(y_preds, df['Age'].values)\n",
    "\n",
    "\n",
    "model_name = '3D_CNN_AD_CN_age_proposed'\n",
    "prediction_name = 'predictions/{i}_on_aug'.format(i=model_name)\n",
    "with open(prediction_name, \"rb\") as fp:\n",
    "    y_preds = pickle.load(fp)\n",
    "demo_test(y_preds, df['Age'].values)"
   ]
  },
  {
   "cell_type": "code",
   "execution_count": 22,
   "id": "specialized-highlight",
   "metadata": {},
   "outputs": [
    {
     "name": "stdout",
     "output_type": "stream",
     "text": [
      "Sample auc mean: 0.856\n",
      "Samole auc std: 0.025\n",
      "Sample auc CI: 0.056\n",
      "Confidence interval for the score: [0.800 - 0.912]\n",
      "Sample auc mean: 0.857\n",
      "Samole auc std: 0.024\n",
      "Sample auc CI: 0.053\n",
      "Confidence interval for the score: [0.803 - 0.910]\n"
     ]
    }
   ],
   "source": [
    "model_name = '3D_CNN_AD_CN_gender'\n",
    "prediction_name = 'predictions/{i}_on_original'.format(i=model_name)\n",
    "with open(prediction_name, \"rb\") as fp:\n",
    "    y_preds = pickle.load(fp)\n",
    "demo_test(y_preds, df['Sex'].values)\n",
    "\n",
    "\n",
    "model_name = '3D_CNN_AD_CN_gender_proposed'\n",
    "prediction_name = 'predictions/{i}_on_aug'.format(i=model_name)\n",
    "with open(prediction_name, \"rb\") as fp:\n",
    "    y_preds = pickle.load(fp)\n",
    "demo_test(y_preds, df['Sex'].values)"
   ]
  },
  {
   "cell_type": "code",
   "execution_count": 11,
   "id": "stretch-wrapping",
   "metadata": {},
   "outputs": [],
   "source": [
    "def compute_result(y_preds, y_test, best_thresh, demo, result_name, group):\n",
    "    group_type = {'race': [0, 1], 'gender': [0, 1], 'age': [0, 1]}\n",
    "    dfs = []\n",
    "\n",
    "    for j in group_type[group]:\n",
    "\n",
    "        idx = demo == j\n",
    "        \n",
    "        dfs.append(test(y_preds[idx], y_test[idx], best_thresh))\n",
    "\n",
    "    with open(\"results/{i}_{group}_results\".format(i=result_name, group=group), \"wb\") as fp:\n",
    "        pickle.dump(dfs, fp)"
   ]
  },
  {
   "cell_type": "code",
   "execution_count": 15,
   "id": "mature-swiss",
   "metadata": {},
   "outputs": [],
   "source": [
    "model_name = '3D_CNN_AD_CN_balanced'\n",
    "result_name = '{i}_on_original'.format(i=model_name)\n",
    "prediction_name = 'predictions/{i}_on_original'.format(i=model_name)\n",
    "best_thresh = np.loadtxt('thresh/{i}_thresh.txt'.format(i=model_name))\n",
    "\n",
    "with open(prediction_name, \"rb\") as fp:\n",
    "    y_preds = pickle.load(fp)\n",
    "    \n",
    "compute_result(y_preds, df['Group'].values, best_thresh, df['Sex'].values, result_name, 'gender')\n",
    "compute_result(y_preds, df['Group'].values, best_thresh, df['Age'].values, result_name, 'age')"
   ]
  },
  {
   "cell_type": "code",
   "execution_count": 16,
   "id": "authorized-stevens",
   "metadata": {},
   "outputs": [],
   "source": [
    "model_name = '3D_CNN_AD_CN_balanced_proposed'\n",
    "result_name = '{i}_on_original'.format(i=model_name)\n",
    "prediction_name = 'predictions/{i}_on_original'.format(i=model_name)\n",
    "best_thresh = np.loadtxt('thresh/{i}_thresh.txt'.format(i=model_name))\n",
    "\n",
    "with open(prediction_name, \"rb\") as fp:\n",
    "    y_preds = pickle.load(fp)\n",
    "    \n",
    "compute_result(y_preds, df['Group'].values, best_thresh, df['Sex'].values, result_name, 'gender')\n",
    "compute_result(y_preds, df['Group'].values, best_thresh, df['Age'].values, result_name, 'age')"
   ]
  },
  {
   "cell_type": "code",
   "execution_count": 17,
   "id": "dynamic-profit",
   "metadata": {},
   "outputs": [],
   "source": [
    "model_name = '3D_CNN_AD_CN_balanced'\n",
    "result_name = '{i}_on_aug'.format(i=model_name)\n",
    "prediction_name = 'predictions/{i}_on_aug'.format(i=model_name)\n",
    "best_thresh = np.loadtxt('thresh/{i}_thresh.txt'.format(i=model_name))\n",
    "\n",
    "with open(prediction_name, \"rb\") as fp:\n",
    "    y_preds = pickle.load(fp)\n",
    "\n",
    "compute_result(y_preds, df['Group'].values, best_thresh, df['Sex'].values, result_name, 'gender')\n",
    "compute_result(y_preds, df['Group'].values, best_thresh, df['Age'].values, result_name, 'age')"
   ]
  },
  {
   "cell_type": "code",
   "execution_count": 18,
   "id": "linear-rebate",
   "metadata": {},
   "outputs": [],
   "source": [
    "model_name = '3D_CNN_AD_CN_balanced_proposed'\n",
    "result_name = '{i}_on_aug'.format(i=model_name)\n",
    "prediction_name = 'predictions/{i}_on_aug'.format(i=model_name)\n",
    "best_thresh = np.loadtxt('thresh/{i}_thresh.txt'.format(i=model_name))\n",
    "\n",
    "with open(prediction_name, \"rb\") as fp:\n",
    "    y_preds = pickle.load(fp)\n",
    "\n",
    "compute_result(y_preds, df['Group'].values, best_thresh, df['Sex'].values, result_name, 'gender')\n",
    "compute_result(y_preds, df['Group'].values, best_thresh, df['Age'].values, result_name, 'age')"
   ]
  }
 ],
 "metadata": {
  "kernelspec": {
   "display_name": "Python 3",
   "language": "python",
   "name": "python3"
  },
  "language_info": {
   "codemirror_mode": {
    "name": "ipython",
    "version": 3
   },
   "file_extension": ".py",
   "mimetype": "text/x-python",
   "name": "python",
   "nbconvert_exporter": "python",
   "pygments_lexer": "ipython3",
   "version": "3.7.10"
  }
 },
 "nbformat": 4,
 "nbformat_minor": 5
}
